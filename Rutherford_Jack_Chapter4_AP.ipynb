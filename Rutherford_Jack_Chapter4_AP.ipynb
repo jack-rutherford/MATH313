{
 "cells": [
  {
   "cell_type": "markdown",
   "id": "e8f14fd0",
   "metadata": {},
   "source": [
    "# Chapter 4 AP\n",
    "\n",
    "This assignment consists of two questions, one from the textbook and one written by the instructor. \n",
    "\n",
    "Each question is worth 20 points.\n",
    "\n",
    "Requirements are similar to those for Chapter 12 AP."
   ]
  },
  {
   "cell_type": "markdown",
   "id": "b859f1d8",
   "metadata": {},
   "source": [
    "## 1. Question 13 on page 196 of the textbook\n",
    "\n",
    "Type your commands below. Be sure to organize your work clearly by using the Markdown."
   ]
  },
  {
   "cell_type": "markdown",
   "id": "fd095642",
   "metadata": {},
   "source": [
    "## 13. This question should be answered using the Weekly data set, which is part of the ISLP package. This data is similar in nature to the Smarket data from this chapter’s lab, except that it contains 1,089 weekly returns for 21 years, from the beginning of 1990 to the end of 2010."
   ]
  },
  {
   "cell_type": "code",
   "execution_count": 1,
   "id": "bdc441ca",
   "metadata": {},
   "outputs": [],
   "source": [
    "import numpy as np\n",
    "import pandas as pd\n",
    "from matplotlib.pyplot import subplots \n",
    "import statsmodels.api as sm\n",
    "from ISLP import load_data\n",
    "from ISLP.models import (ModelSpec as MS,\n",
    "summarize)\n",
    "from ISLP import confusion_table\n",
    "from ISLP.models import contrast\n",
    "from sklearn.discriminant_analysis import (LinearDiscriminantAnalysis as LDA, \n",
    "                                           QuadraticDiscriminantAnalysis as QDA)\n",
    "from sklearn.naive_bayes import GaussianNB\n",
    "from sklearn.neighbors import KNeighborsClassifier \n",
    "from sklearn.preprocessing import StandardScaler\n",
    "from sklearn.model_selection import train_test_split \n",
    "from sklearn.linear_model import LogisticRegression"
   ]
  },
  {
   "cell_type": "markdown",
   "id": "da7b1b07",
   "metadata": {},
   "source": [
    "### a). Produce some numerical and graphical summaries of the Weekly data. Do there appear to be any patterns?"
   ]
  },
  {
   "cell_type": "code",
   "execution_count": 2,
   "id": "512567d7",
   "metadata": {},
   "outputs": [
    {
     "data": {
      "text/html": [
       "<div>\n",
       "<style scoped>\n",
       "    .dataframe tbody tr th:only-of-type {\n",
       "        vertical-align: middle;\n",
       "    }\n",
       "\n",
       "    .dataframe tbody tr th {\n",
       "        vertical-align: top;\n",
       "    }\n",
       "\n",
       "    .dataframe thead th {\n",
       "        text-align: right;\n",
       "    }\n",
       "</style>\n",
       "<table border=\"1\" class=\"dataframe\">\n",
       "  <thead>\n",
       "    <tr style=\"text-align: right;\">\n",
       "      <th></th>\n",
       "      <th>Year</th>\n",
       "      <th>Lag1</th>\n",
       "      <th>Lag2</th>\n",
       "      <th>Lag3</th>\n",
       "      <th>Lag4</th>\n",
       "      <th>Lag5</th>\n",
       "      <th>Volume</th>\n",
       "      <th>Today</th>\n",
       "      <th>Direction</th>\n",
       "    </tr>\n",
       "  </thead>\n",
       "  <tbody>\n",
       "    <tr>\n",
       "      <th>0</th>\n",
       "      <td>1990</td>\n",
       "      <td>0.816</td>\n",
       "      <td>1.572</td>\n",
       "      <td>-3.936</td>\n",
       "      <td>-0.229</td>\n",
       "      <td>-3.484</td>\n",
       "      <td>0.154976</td>\n",
       "      <td>-0.270</td>\n",
       "      <td>Down</td>\n",
       "    </tr>\n",
       "    <tr>\n",
       "      <th>1</th>\n",
       "      <td>1990</td>\n",
       "      <td>-0.270</td>\n",
       "      <td>0.816</td>\n",
       "      <td>1.572</td>\n",
       "      <td>-3.936</td>\n",
       "      <td>-0.229</td>\n",
       "      <td>0.148574</td>\n",
       "      <td>-2.576</td>\n",
       "      <td>Down</td>\n",
       "    </tr>\n",
       "    <tr>\n",
       "      <th>2</th>\n",
       "      <td>1990</td>\n",
       "      <td>-2.576</td>\n",
       "      <td>-0.270</td>\n",
       "      <td>0.816</td>\n",
       "      <td>1.572</td>\n",
       "      <td>-3.936</td>\n",
       "      <td>0.159837</td>\n",
       "      <td>3.514</td>\n",
       "      <td>Up</td>\n",
       "    </tr>\n",
       "    <tr>\n",
       "      <th>3</th>\n",
       "      <td>1990</td>\n",
       "      <td>3.514</td>\n",
       "      <td>-2.576</td>\n",
       "      <td>-0.270</td>\n",
       "      <td>0.816</td>\n",
       "      <td>1.572</td>\n",
       "      <td>0.161630</td>\n",
       "      <td>0.712</td>\n",
       "      <td>Up</td>\n",
       "    </tr>\n",
       "    <tr>\n",
       "      <th>4</th>\n",
       "      <td>1990</td>\n",
       "      <td>0.712</td>\n",
       "      <td>3.514</td>\n",
       "      <td>-2.576</td>\n",
       "      <td>-0.270</td>\n",
       "      <td>0.816</td>\n",
       "      <td>0.153728</td>\n",
       "      <td>1.178</td>\n",
       "      <td>Up</td>\n",
       "    </tr>\n",
       "    <tr>\n",
       "      <th>...</th>\n",
       "      <td>...</td>\n",
       "      <td>...</td>\n",
       "      <td>...</td>\n",
       "      <td>...</td>\n",
       "      <td>...</td>\n",
       "      <td>...</td>\n",
       "      <td>...</td>\n",
       "      <td>...</td>\n",
       "      <td>...</td>\n",
       "    </tr>\n",
       "    <tr>\n",
       "      <th>1084</th>\n",
       "      <td>2010</td>\n",
       "      <td>-0.861</td>\n",
       "      <td>0.043</td>\n",
       "      <td>-2.173</td>\n",
       "      <td>3.599</td>\n",
       "      <td>0.015</td>\n",
       "      <td>3.205160</td>\n",
       "      <td>2.969</td>\n",
       "      <td>Up</td>\n",
       "    </tr>\n",
       "    <tr>\n",
       "      <th>1085</th>\n",
       "      <td>2010</td>\n",
       "      <td>2.969</td>\n",
       "      <td>-0.861</td>\n",
       "      <td>0.043</td>\n",
       "      <td>-2.173</td>\n",
       "      <td>3.599</td>\n",
       "      <td>4.242568</td>\n",
       "      <td>1.281</td>\n",
       "      <td>Up</td>\n",
       "    </tr>\n",
       "    <tr>\n",
       "      <th>1086</th>\n",
       "      <td>2010</td>\n",
       "      <td>1.281</td>\n",
       "      <td>2.969</td>\n",
       "      <td>-0.861</td>\n",
       "      <td>0.043</td>\n",
       "      <td>-2.173</td>\n",
       "      <td>4.835082</td>\n",
       "      <td>0.283</td>\n",
       "      <td>Up</td>\n",
       "    </tr>\n",
       "    <tr>\n",
       "      <th>1087</th>\n",
       "      <td>2010</td>\n",
       "      <td>0.283</td>\n",
       "      <td>1.281</td>\n",
       "      <td>2.969</td>\n",
       "      <td>-0.861</td>\n",
       "      <td>0.043</td>\n",
       "      <td>4.454044</td>\n",
       "      <td>1.034</td>\n",
       "      <td>Up</td>\n",
       "    </tr>\n",
       "    <tr>\n",
       "      <th>1088</th>\n",
       "      <td>2010</td>\n",
       "      <td>1.034</td>\n",
       "      <td>0.283</td>\n",
       "      <td>1.281</td>\n",
       "      <td>2.969</td>\n",
       "      <td>-0.861</td>\n",
       "      <td>2.707105</td>\n",
       "      <td>0.069</td>\n",
       "      <td>Up</td>\n",
       "    </tr>\n",
       "  </tbody>\n",
       "</table>\n",
       "<p>1089 rows × 9 columns</p>\n",
       "</div>"
      ],
      "text/plain": [
       "      Year   Lag1   Lag2   Lag3   Lag4   Lag5    Volume  Today Direction\n",
       "0     1990  0.816  1.572 -3.936 -0.229 -3.484  0.154976 -0.270      Down\n",
       "1     1990 -0.270  0.816  1.572 -3.936 -0.229  0.148574 -2.576      Down\n",
       "2     1990 -2.576 -0.270  0.816  1.572 -3.936  0.159837  3.514        Up\n",
       "3     1990  3.514 -2.576 -0.270  0.816  1.572  0.161630  0.712        Up\n",
       "4     1990  0.712  3.514 -2.576 -0.270  0.816  0.153728  1.178        Up\n",
       "...    ...    ...    ...    ...    ...    ...       ...    ...       ...\n",
       "1084  2010 -0.861  0.043 -2.173  3.599  0.015  3.205160  2.969        Up\n",
       "1085  2010  2.969 -0.861  0.043 -2.173  3.599  4.242568  1.281        Up\n",
       "1086  2010  1.281  2.969 -0.861  0.043 -2.173  4.835082  0.283        Up\n",
       "1087  2010  0.283  1.281  2.969 -0.861  0.043  4.454044  1.034        Up\n",
       "1088  2010  1.034  0.283  1.281  2.969 -0.861  2.707105  0.069        Up\n",
       "\n",
       "[1089 rows x 9 columns]"
      ]
     },
     "execution_count": 2,
     "metadata": {},
     "output_type": "execute_result"
    }
   ],
   "source": [
    "Weekly = load_data('Weekly') \n",
    "Weekly"
   ]
  },
  {
   "cell_type": "code",
   "execution_count": 3,
   "id": "6048fdd7",
   "metadata": {},
   "outputs": [
    {
     "data": {
      "image/png": "[encoded data removed]",
      "text/plain": [
       "<Figure size 640x480 with 2 Axes>"
      ]
     },
     "metadata": {},
     "output_type": "display_data"
    }
   ],
   "source": [
    "import seaborn as sns\n",
    "corr_matrix = Weekly.corr(numeric_only=True)\n",
    "sns.heatmap(corr_matrix, annot=True, cmap=\"YlGnBu\");"
   ]
  },
  {
   "cell_type": "code",
   "execution_count": 4,
   "id": "238cd5ac",
   "metadata": {},
   "outputs": [
    {
     "data": {
      "image/png": "[encoded data removed]",
      "text/plain": [
       "<Figure size 640x480 with 1 Axes>"
      ]
     },
     "metadata": {},
     "output_type": "display_data"
    }
   ],
   "source": [
    "Weekly.plot(y='Volume');"
   ]
  },
  {
   "cell_type": "code",
   "execution_count": 5,
   "id": "569a65bf",
   "metadata": {},
   "outputs": [
    {
     "data": {
      "text/html": [
       "<div>\n",
       "<style scoped>\n",
       "    .dataframe tbody tr th:only-of-type {\n",
       "        vertical-align: middle;\n",
       "    }\n",
       "\n",
       "    .dataframe tbody tr th {\n",
       "        vertical-align: top;\n",
       "    }\n",
       "\n",
       "    .dataframe thead th {\n",
       "        text-align: right;\n",
       "    }\n",
       "</style>\n",
       "<table border=\"1\" class=\"dataframe\">\n",
       "  <thead>\n",
       "    <tr style=\"text-align: right;\">\n",
       "      <th></th>\n",
       "      <th>coef</th>\n",
       "      <th>std err</th>\n",
       "      <th>z</th>\n",
       "      <th>P&gt;|z|</th>\n",
       "    </tr>\n",
       "  </thead>\n",
       "  <tbody>\n",
       "    <tr>\n",
       "      <th>intercept</th>\n",
       "      <td>0.2669</td>\n",
       "      <td>0.086</td>\n",
       "      <td>3.106</td>\n",
       "      <td>0.002</td>\n",
       "    </tr>\n",
       "    <tr>\n",
       "      <th>Lag1</th>\n",
       "      <td>-0.0413</td>\n",
       "      <td>0.026</td>\n",
       "      <td>-1.563</td>\n",
       "      <td>0.118</td>\n",
       "    </tr>\n",
       "    <tr>\n",
       "      <th>Lag2</th>\n",
       "      <td>0.0584</td>\n",
       "      <td>0.027</td>\n",
       "      <td>2.175</td>\n",
       "      <td>0.030</td>\n",
       "    </tr>\n",
       "    <tr>\n",
       "      <th>Lag3</th>\n",
       "      <td>-0.0161</td>\n",
       "      <td>0.027</td>\n",
       "      <td>-0.602</td>\n",
       "      <td>0.547</td>\n",
       "    </tr>\n",
       "    <tr>\n",
       "      <th>Lag4</th>\n",
       "      <td>-0.0278</td>\n",
       "      <td>0.026</td>\n",
       "      <td>-1.050</td>\n",
       "      <td>0.294</td>\n",
       "    </tr>\n",
       "    <tr>\n",
       "      <th>Lag5</th>\n",
       "      <td>-0.0145</td>\n",
       "      <td>0.026</td>\n",
       "      <td>-0.549</td>\n",
       "      <td>0.583</td>\n",
       "    </tr>\n",
       "    <tr>\n",
       "      <th>Volume</th>\n",
       "      <td>-0.0227</td>\n",
       "      <td>0.037</td>\n",
       "      <td>-0.616</td>\n",
       "      <td>0.538</td>\n",
       "    </tr>\n",
       "  </tbody>\n",
       "</table>\n",
       "</div>"
      ],
      "text/plain": [
       "             coef  std err      z  P>|z|\n",
       "intercept  0.2669    0.086  3.106  0.002\n",
       "Lag1      -0.0413    0.026 -1.563  0.118\n",
       "Lag2       0.0584    0.027  2.175  0.030\n",
       "Lag3      -0.0161    0.027 -0.602  0.547\n",
       "Lag4      -0.0278    0.026 -1.050  0.294\n",
       "Lag5      -0.0145    0.026 -0.549  0.583\n",
       "Volume    -0.0227    0.037 -0.616  0.538"
      ]
     },
     "execution_count": 5,
     "metadata": {},
     "output_type": "execute_result"
    }
   ],
   "source": [
    "allvars = Weekly.columns.drop(['Today', 'Direction', 'Year']) \n",
    "design = MS(allvars)\n",
    "X = design.fit_transform(Weekly)\n",
    "y = Weekly.Direction == 'Up'\n",
    "glm = sm.GLM(y, X,\n",
    "family=sm.families.Binomial()) \n",
    "results = glm.fit()\n",
    "summarize(results)"
   ]
  },
  {
   "cell_type": "markdown",
   "id": "f2a5861a",
   "metadata": {},
   "source": [
    "<strong>Conclusion:</strong> The only variables that have any significant linear relation are <strong><u>volume</u></strong> and <strong><u>year</u></strong>. It does not appear that anything else is linearly related."
   ]
  },
  {
   "cell_type": "markdown",
   "id": "00e23d0f",
   "metadata": {},
   "source": [
    "### b). Use the full data set to perform a logistic regression with Direction as the response and the five lag variables plus Volume as predictors. Use the summary function to print the results. Do any of the predictors appear to be statistically significant? If so, which ones?"
   ]
  },
  {
   "cell_type": "code",
   "execution_count": 6,
   "id": "4d5576b9",
   "metadata": {},
   "outputs": [
    {
     "data": {
      "text/plain": [
       "intercept    0.266864\n",
       "Lag1        -0.041269\n",
       "Lag2         0.058442\n",
       "Lag3        -0.016061\n",
       "Lag4        -0.027790\n",
       "Lag5        -0.014472\n",
       "Volume      -0.022742\n",
       "dtype: float64"
      ]
     },
     "execution_count": 6,
     "metadata": {},
     "output_type": "execute_result"
    }
   ],
   "source": [
    "results.params"
   ]
  },
  {
   "cell_type": "code",
   "execution_count": 7,
   "id": "9a2d464f",
   "metadata": {},
   "outputs": [
    {
     "data": {
      "text/plain": [
       "intercept    0.001899\n",
       "Lag1         0.118144\n",
       "Lag2         0.029601\n",
       "Lag3         0.546924\n",
       "Lag4         0.293653\n",
       "Lag5         0.583348\n",
       "Volume       0.537675\n",
       "dtype: float64"
      ]
     },
     "execution_count": 7,
     "metadata": {},
     "output_type": "execute_result"
    }
   ],
   "source": [
    "results.pvalues"
   ]
  },
  {
   "cell_type": "code",
   "execution_count": 8,
   "id": "7106824f",
   "metadata": {},
   "outputs": [
    {
     "data": {
      "text/plain": [
       "array([0.60862494, 0.60103144, 0.58756995, 0.48164156, 0.61690129,\n",
       "       0.56841902, 0.57860971, 0.51519724, 0.57151998, 0.55542873])"
      ]
     },
     "execution_count": 8,
     "metadata": {},
     "output_type": "execute_result"
    }
   ],
   "source": [
    "probs = results.predict() \n",
    "probs [:10]"
   ]
  },
  {
   "cell_type": "markdown",
   "id": "f52fe802",
   "metadata": {},
   "source": [
    "### c). Compute the confusion matrix and overall fraction of correct predictions. Explain what the confusion matrix is telling you about the types of mistakes made by logistic regression."
   ]
  },
  {
   "cell_type": "code",
   "execution_count": 9,
   "id": "ac792dcf",
   "metadata": {},
   "outputs": [],
   "source": [
    "labels = np.array(['Down']*1089) \n",
    "#1250 is the size (n). Making an array of 1250 down, \n",
    "#if > 0.5 then it changes to up\n",
    "labels[probs>0.5] = \"Up\""
   ]
  },
  {
   "cell_type": "code",
   "execution_count": 10,
   "id": "ecfa4988",
   "metadata": {},
   "outputs": [
    {
     "data": {
      "text/html": [
       "<div>\n",
       "<style scoped>\n",
       "    .dataframe tbody tr th:only-of-type {\n",
       "        vertical-align: middle;\n",
       "    }\n",
       "\n",
       "    .dataframe tbody tr th {\n",
       "        vertical-align: top;\n",
       "    }\n",
       "\n",
       "    .dataframe thead th {\n",
       "        text-align: right;\n",
       "    }\n",
       "</style>\n",
       "<table border=\"1\" class=\"dataframe\">\n",
       "  <thead>\n",
       "    <tr style=\"text-align: right;\">\n",
       "      <th>Truth</th>\n",
       "      <th>Down</th>\n",
       "      <th>Up</th>\n",
       "    </tr>\n",
       "    <tr>\n",
       "      <th>Predicted</th>\n",
       "      <th></th>\n",
       "      <th></th>\n",
       "    </tr>\n",
       "  </thead>\n",
       "  <tbody>\n",
       "    <tr>\n",
       "      <th>Down</th>\n",
       "      <td>54</td>\n",
       "      <td>48</td>\n",
       "    </tr>\n",
       "    <tr>\n",
       "      <th>Up</th>\n",
       "      <td>430</td>\n",
       "      <td>557</td>\n",
       "    </tr>\n",
       "  </tbody>\n",
       "</table>\n",
       "</div>"
      ],
      "text/plain": [
       "Truth      Down   Up\n",
       "Predicted           \n",
       "Down         54   48\n",
       "Up          430  557"
      ]
     },
     "execution_count": 10,
     "metadata": {},
     "output_type": "execute_result"
    }
   ],
   "source": [
    "confusion_table(labels, Weekly.Direction)"
   ]
  },
  {
   "cell_type": "code",
   "execution_count": 11,
   "id": "31a23980",
   "metadata": {},
   "outputs": [
    {
     "data": {
      "text/plain": [
       "(0.5610651974288338, 0.5610651974288338)"
      ]
     },
     "execution_count": 11,
     "metadata": {},
     "output_type": "execute_result"
    }
   ],
   "source": [
    "(557+54)/1089, np.mean(labels == Weekly.Direction)"
   ]
  },
  {
   "cell_type": "code",
   "execution_count": 12,
   "id": "bc3cec37",
   "metadata": {},
   "outputs": [
    {
     "data": {
      "text/plain": [
       "(0.9206611570247933, 0.1115702479338843)"
      ]
     },
     "execution_count": 12,
     "metadata": {},
     "output_type": "execute_result"
    }
   ],
   "source": [
    "557/(48+557), 54/(430+54)"
   ]
  },
  {
   "cell_type": "markdown",
   "id": "cdfd0f75",
   "metadata": {},
   "source": [
    "<strong>Conclusion:</strong> This confusion matrix and percentages are showing us that 56.1% of the daily movements have been correctly predicted. However, the confusion matrix shows that on days when logistic regression predicts an increase in the market, it also has a 92.06% accuracy rate, whereas days when logistic regression predicts an decrease in the market only has an 11.15% accuracy rate. This suggests a possible trading strategy of buying on days when the model predicts an increasing market, and avoiding trades on days when a decrease is predicted."
   ]
  },
  {
   "cell_type": "markdown",
   "id": "8f6fd95b",
   "metadata": {},
   "source": [
    "### d). Now fit the logistic regression model using a training data period from 1990 to 2008, with Lag2 as the only predictor. Compute the confusion matrix and the overall fraction of correct predictions for the held out data (that is, the data from 2009 and 2010)."
   ]
  },
  {
   "cell_type": "code",
   "execution_count": 13,
   "id": "887aebe7",
   "metadata": {},
   "outputs": [
    {
     "data": {
      "text/plain": [
       "(104, 9)"
      ]
     },
     "execution_count": 13,
     "metadata": {},
     "output_type": "execute_result"
    }
   ],
   "source": [
    "train = (Weekly.Year < 2009) \n",
    "Weekly_train = Weekly.loc[train] \n",
    "Weekly_test = Weekly.loc[~train] \n",
    "Weekly_test.shape"
   ]
  },
  {
   "cell_type": "code",
   "execution_count": 14,
   "id": "5571b33a",
   "metadata": {},
   "outputs": [],
   "source": [
    "X_train, X_test = X.loc[train], X.loc[~train] \n",
    "y_train, y_test = y.loc[train], y.loc[~train] \n",
    "glm_train = sm.GLM(y_train,\n",
    "                   X_train,\n",
    "                   family=sm.families.Binomial()) \n",
    "results = glm_train.fit()\n",
    "probs = results.predict(exog=X_test)"
   ]
  },
  {
   "cell_type": "code",
   "execution_count": 15,
   "id": "5967df00",
   "metadata": {},
   "outputs": [],
   "source": [
    "D = Weekly.Direction\n",
    "L_train, L_test = D.loc[train], D.loc[~train]"
   ]
  },
  {
   "cell_type": "code",
   "execution_count": 16,
   "id": "c4085fc0",
   "metadata": {},
   "outputs": [
    {
     "data": {
      "text/html": [
       "<div>\n",
       "<style scoped>\n",
       "    .dataframe tbody tr th:only-of-type {\n",
       "        vertical-align: middle;\n",
       "    }\n",
       "\n",
       "    .dataframe tbody tr th {\n",
       "        vertical-align: top;\n",
       "    }\n",
       "\n",
       "    .dataframe thead th {\n",
       "        text-align: right;\n",
       "    }\n",
       "</style>\n",
       "<table border=\"1\" class=\"dataframe\">\n",
       "  <thead>\n",
       "    <tr style=\"text-align: right;\">\n",
       "      <th>Truth</th>\n",
       "      <th>Down</th>\n",
       "      <th>Up</th>\n",
       "    </tr>\n",
       "    <tr>\n",
       "      <th>Predicted</th>\n",
       "      <th></th>\n",
       "      <th></th>\n",
       "    </tr>\n",
       "  </thead>\n",
       "  <tbody>\n",
       "    <tr>\n",
       "      <th>Down</th>\n",
       "      <td>31</td>\n",
       "      <td>44</td>\n",
       "    </tr>\n",
       "    <tr>\n",
       "      <th>Up</th>\n",
       "      <td>12</td>\n",
       "      <td>17</td>\n",
       "    </tr>\n",
       "  </tbody>\n",
       "</table>\n",
       "</div>"
      ],
      "text/plain": [
       "Truth      Down  Up\n",
       "Predicted          \n",
       "Down         31  44\n",
       "Up           12  17"
      ]
     },
     "execution_count": 16,
     "metadata": {},
     "output_type": "execute_result"
    }
   ],
   "source": [
    "labels = np.array(['Down']*104) #313 = num of observations (rows) in train\n",
    "labels[probs>0.5] = 'Up' \n",
    "confusion_table(labels, L_test)"
   ]
  },
  {
   "cell_type": "code",
   "execution_count": 17,
   "id": "4b7684a3",
   "metadata": {},
   "outputs": [
    {
     "data": {
      "text/plain": [
       "(0.46153846153846156, 0.5384615384615384)"
      ]
     },
     "execution_count": 17,
     "metadata": {},
     "output_type": "execute_result"
    }
   ],
   "source": [
    "np.mean(labels == L_test), np.mean(labels != L_test)"
   ]
  },
  {
   "cell_type": "code",
   "execution_count": 18,
   "id": "fe5ebc23",
   "metadata": {},
   "outputs": [
    {
     "data": {
      "text/html": [
       "<div>\n",
       "<style scoped>\n",
       "    .dataframe tbody tr th:only-of-type {\n",
       "        vertical-align: middle;\n",
       "    }\n",
       "\n",
       "    .dataframe tbody tr th {\n",
       "        vertical-align: top;\n",
       "    }\n",
       "\n",
       "    .dataframe thead th {\n",
       "        text-align: right;\n",
       "    }\n",
       "</style>\n",
       "<table border=\"1\" class=\"dataframe\">\n",
       "  <thead>\n",
       "    <tr style=\"text-align: right;\">\n",
       "      <th>Truth</th>\n",
       "      <th>Down</th>\n",
       "      <th>Up</th>\n",
       "    </tr>\n",
       "    <tr>\n",
       "      <th>Predicted</th>\n",
       "      <th></th>\n",
       "      <th></th>\n",
       "    </tr>\n",
       "  </thead>\n",
       "  <tbody>\n",
       "    <tr>\n",
       "      <th>Down</th>\n",
       "      <td>9</td>\n",
       "      <td>5</td>\n",
       "    </tr>\n",
       "    <tr>\n",
       "      <th>Up</th>\n",
       "      <td>34</td>\n",
       "      <td>56</td>\n",
       "    </tr>\n",
       "  </tbody>\n",
       "</table>\n",
       "</div>"
      ],
      "text/plain": [
       "Truth      Down  Up\n",
       "Predicted          \n",
       "Down          9   5\n",
       "Up           34  56"
      ]
     },
     "execution_count": 18,
     "metadata": {},
     "output_type": "execute_result"
    }
   ],
   "source": [
    "model = MS(['Lag2']).fit(Weekly)\n",
    "X = model.transform(Weekly)\n",
    "X_train, X_test = X.loc[train], X.loc[~train] \n",
    "glm_train = sm.GLM(y_train,\n",
    "                   X_train ,\n",
    "                   family=sm.families.Binomial()) \n",
    "results = glm_train.fit()\n",
    "probs = results.predict(exog=X_test) \n",
    "labels = np.array(['Down']*104) \n",
    "labels[probs>0.5] = 'Up' \n",
    "confusion_table(labels, L_test)"
   ]
  },
  {
   "cell_type": "code",
   "execution_count": 19,
   "id": "30f9edd7",
   "metadata": {},
   "outputs": [
    {
     "data": {
      "text/plain": [
       "0.625"
      ]
     },
     "execution_count": 19,
     "metadata": {},
     "output_type": "execute_result"
    }
   ],
   "source": [
    "(9+56)/104"
   ]
  },
  {
   "cell_type": "markdown",
   "id": "c0d745cd",
   "metadata": {},
   "source": [
    "When spliting up the whole Weekly dataset into a training and test dataset, the model correctly predicted weekly trends at rate of 62.5%, which is a moderate improvement from the model that utilized the whole dataset."
   ]
  },
  {
   "cell_type": "code",
   "execution_count": 20,
   "id": "6e8277a0",
   "metadata": {},
   "outputs": [
    {
     "data": {
      "text/plain": [
       "0    0.566396\n",
       "1    0.539115\n",
       "dtype: float64"
      ]
     },
     "execution_count": 20,
     "metadata": {},
     "output_type": "execute_result"
    }
   ],
   "source": [
    "newdata = pd.DataFrame({'Lag1':[1.2, 1.5], \n",
    "                        'Lag2':[1.1, -0.8]});\n",
    "newX = model.transform(newdata) \n",
    "results.predict(newX)"
   ]
  },
  {
   "cell_type": "markdown",
   "id": "e9ebe3b0",
   "metadata": {},
   "source": [
    "### e). Repeat (d) using LDA."
   ]
  },
  {
   "cell_type": "code",
   "execution_count": 21,
   "id": "6ff63871",
   "metadata": {},
   "outputs": [],
   "source": [
    "lda = LDA(store_covariance=True)"
   ]
  },
  {
   "cell_type": "code",
   "execution_count": 22,
   "id": "16bdda7e",
   "metadata": {
    "scrolled": true
   },
   "outputs": [
    {
     "data": {
      "text/html": [
       "<style>#sk-container-id-1 {color: black;}#sk-container-id-1 pre{padding: 0;}#sk-container-id-1 div.sk-toggleable {background-color: white;}#sk-container-id-1 label.sk-toggleable__label {cursor: pointer;display: block;width: 100%;margin-bottom: 0;padding: 0.3em;box-sizing: border-box;text-align: center;}#sk-container-id-1 label.sk-toggleable__label-arrow:before {content: \"▸\";float: left;margin-right: 0.25em;color: #696969;}#sk-container-id-1 label.sk-toggleable__label-arrow:hover:before {color: black;}#sk-container-id-1 div.sk-estimator:hover label.sk-toggleable__label-arrow:before {color: black;}#sk-container-id-1 div.sk-toggleable__content {max-height: 0;max-width: 0;overflow: hidden;text-align: left;background-color: #f0f8ff;}#sk-container-id-1 div.sk-toggleable__content pre {margin: 0.2em;color: black;border-radius: 0.25em;background-color: #f0f8ff;}#sk-container-id-1 input.sk-toggleable__control:checked~div.sk-toggleable__content {max-height: 200px;max-width: 100%;overflow: auto;}#sk-container-id-1 input.sk-toggleable__control:checked~label.sk-toggleable__label-arrow:before {content: \"▾\";}#sk-container-id-1 div.sk-estimator input.sk-toggleable__control:checked~label.sk-toggleable__label {background-color: #d4ebff;}#sk-container-id-1 div.sk-label input.sk-toggleable__control:checked~label.sk-toggleable__label {background-color: #d4ebff;}#sk-container-id-1 input.sk-hidden--visually {border: 0;clip: rect(1px 1px 1px 1px);clip: rect(1px, 1px, 1px, 1px);height: 1px;margin: -1px;overflow: hidden;padding: 0;position: absolute;width: 1px;}#sk-container-id-1 div.sk-estimator {font-family: monospace;background-color: #f0f8ff;border: 1px dotted black;border-radius: 0.25em;box-sizing: border-box;margin-bottom: 0.5em;}#sk-container-id-1 div.sk-estimator:hover {background-color: #d4ebff;}#sk-container-id-1 div.sk-parallel-item::after {content: \"\";width: 100%;border-bottom: 1px solid gray;flex-grow: 1;}#sk-container-id-1 div.sk-label:hover label.sk-toggleable__label {background-color: #d4ebff;}#sk-container-id-1 div.sk-serial::before {content: \"\";position: absolute;border-left: 1px solid gray;box-sizing: border-box;top: 0;bottom: 0;left: 50%;z-index: 0;}#sk-container-id-1 div.sk-serial {display: flex;flex-direction: column;align-items: center;background-color: white;padding-right: 0.2em;padding-left: 0.2em;position: relative;}#sk-container-id-1 div.sk-item {position: relative;z-index: 1;}#sk-container-id-1 div.sk-parallel {display: flex;align-items: stretch;justify-content: center;background-color: white;position: relative;}#sk-container-id-1 div.sk-item::before, #sk-container-id-1 div.sk-parallel-item::before {content: \"\";position: absolute;border-left: 1px solid gray;box-sizing: border-box;top: 0;bottom: 0;left: 50%;z-index: -1;}#sk-container-id-1 div.sk-parallel-item {display: flex;flex-direction: column;z-index: 1;position: relative;background-color: white;}#sk-container-id-1 div.sk-parallel-item:first-child::after {align-self: flex-end;width: 50%;}#sk-container-id-1 div.sk-parallel-item:last-child::after {align-self: flex-start;width: 50%;}#sk-container-id-1 div.sk-parallel-item:only-child::after {width: 0;}#sk-container-id-1 div.sk-dashed-wrapped {border: 1px dashed gray;margin: 0 0.4em 0.5em 0.4em;box-sizing: border-box;padding-bottom: 0.4em;background-color: white;}#sk-container-id-1 div.sk-label label {font-family: monospace;font-weight: bold;display: inline-block;line-height: 1.2em;}#sk-container-id-1 div.sk-label-container {text-align: center;}#sk-container-id-1 div.sk-container {/* jupyter's `normalize.less` sets `[hidden] { display: none; }` but bootstrap.min.css set `[hidden] { display: none !important; }` so we also need the `!important` here to be able to override the default hidden behavior on the sphinx rendered scikit-learn.org. See: https://github.com/scikit-learn/scikit-learn/issues/21755 */display: inline-block !important;position: relative;}#sk-container-id-1 div.sk-text-repr-fallback {display: none;}</style><div id=\"sk-container-id-1\" class=\"sk-top-container\"><div class=\"sk-text-repr-fallback\"><pre>LinearDiscriminantAnalysis(store_covariance=True)</pre><b>In a Jupyter environment, please rerun this cell to show the HTML representation or trust the notebook. <br />On GitHub, the HTML representation is unable to render, please try loading this page with nbviewer.org.</b></div><div class=\"sk-container\" hidden><div class=\"sk-item\"><div class=\"sk-estimator sk-toggleable\"><input class=\"sk-toggleable__control sk-hidden--visually\" id=\"sk-estimator-id-1\" type=\"checkbox\" checked><label for=\"sk-estimator-id-1\" class=\"sk-toggleable__label sk-toggleable__label-arrow\">LinearDiscriminantAnalysis</label><div class=\"sk-toggleable__content\"><pre>LinearDiscriminantAnalysis(store_covariance=True)</pre></div></div></div></div></div>"
      ],
      "text/plain": [
       "LinearDiscriminantAnalysis(store_covariance=True)"
      ]
     },
     "execution_count": 22,
     "metadata": {},
     "output_type": "execute_result"
    }
   ],
   "source": [
    "X_train, X_test = [M.drop(columns=['intercept']) \n",
    "                   for M in [X_train, X_test]]\n",
    "lda.fit(X_train, L_train)"
   ]
  },
  {
   "cell_type": "code",
   "execution_count": 23,
   "id": "fc839c8f",
   "metadata": {},
   "outputs": [
    {
     "data": {
      "text/plain": [
       "array([[-0.03568254],\n",
       "       [ 0.26036581]])"
      ]
     },
     "execution_count": 23,
     "metadata": {},
     "output_type": "execute_result"
    }
   ],
   "source": [
    "lda.means_"
   ]
  },
  {
   "cell_type": "code",
   "execution_count": 24,
   "id": "ae0f9142",
   "metadata": {},
   "outputs": [
    {
     "data": {
      "text/plain": [
       "array(['Down', 'Up'], dtype='<U4')"
      ]
     },
     "execution_count": 24,
     "metadata": {},
     "output_type": "execute_result"
    }
   ],
   "source": [
    "lda.classes_"
   ]
  },
  {
   "cell_type": "code",
   "execution_count": 25,
   "id": "3b378215",
   "metadata": {},
   "outputs": [
    {
     "data": {
      "text/plain": [
       "array([0.44771574, 0.55228426])"
      ]
     },
     "execution_count": 25,
     "metadata": {},
     "output_type": "execute_result"
    }
   ],
   "source": [
    "lda.priors_ #prior probability"
   ]
  },
  {
   "cell_type": "code",
   "execution_count": 26,
   "id": "6bfe5c89",
   "metadata": {},
   "outputs": [
    {
     "data": {
      "text/plain": [
       "array([[0.44141622]])"
      ]
     },
     "execution_count": 26,
     "metadata": {},
     "output_type": "execute_result"
    }
   ],
   "source": [
    "lda.scalings_"
   ]
  },
  {
   "cell_type": "code",
   "execution_count": 27,
   "id": "9d6f5525",
   "metadata": {},
   "outputs": [],
   "source": [
    "lda_pred = lda.predict(X_test)"
   ]
  },
  {
   "cell_type": "code",
   "execution_count": 28,
   "id": "8ce17512",
   "metadata": {},
   "outputs": [
    {
     "data": {
      "text/html": [
       "<div>\n",
       "<style scoped>\n",
       "    .dataframe tbody tr th:only-of-type {\n",
       "        vertical-align: middle;\n",
       "    }\n",
       "\n",
       "    .dataframe tbody tr th {\n",
       "        vertical-align: top;\n",
       "    }\n",
       "\n",
       "    .dataframe thead th {\n",
       "        text-align: right;\n",
       "    }\n",
       "</style>\n",
       "<table border=\"1\" class=\"dataframe\">\n",
       "  <thead>\n",
       "    <tr style=\"text-align: right;\">\n",
       "      <th>Truth</th>\n",
       "      <th>Down</th>\n",
       "      <th>Up</th>\n",
       "    </tr>\n",
       "    <tr>\n",
       "      <th>Predicted</th>\n",
       "      <th></th>\n",
       "      <th></th>\n",
       "    </tr>\n",
       "  </thead>\n",
       "  <tbody>\n",
       "    <tr>\n",
       "      <th>Down</th>\n",
       "      <td>9</td>\n",
       "      <td>5</td>\n",
       "    </tr>\n",
       "    <tr>\n",
       "      <th>Up</th>\n",
       "      <td>34</td>\n",
       "      <td>56</td>\n",
       "    </tr>\n",
       "  </tbody>\n",
       "</table>\n",
       "</div>"
      ],
      "text/plain": [
       "Truth      Down  Up\n",
       "Predicted          \n",
       "Down          9   5\n",
       "Up           34  56"
      ]
     },
     "execution_count": 28,
     "metadata": {},
     "output_type": "execute_result"
    }
   ],
   "source": [
    "confusion_table(lda_pred, L_test)"
   ]
  },
  {
   "cell_type": "code",
   "execution_count": 29,
   "id": "681cf8dc",
   "metadata": {},
   "outputs": [
    {
     "data": {
      "text/plain": [
       "0.625"
      ]
     },
     "execution_count": 29,
     "metadata": {},
     "output_type": "execute_result"
    }
   ],
   "source": [
    "(56+9)/104"
   ]
  },
  {
   "cell_type": "markdown",
   "id": "651db19b",
   "metadata": {},
   "source": [
    "<strong>Conclusion:</strong> These results are identical as Logistic Regression"
   ]
  },
  {
   "cell_type": "markdown",
   "id": "b37cf9c3",
   "metadata": {},
   "source": [
    "### f). Repeat (d) using QDA"
   ]
  },
  {
   "cell_type": "code",
   "execution_count": 30,
   "id": "7d16bf01",
   "metadata": {},
   "outputs": [
    {
     "data": {
      "text/html": [
       "<style>#sk-container-id-2 {color: black;}#sk-container-id-2 pre{padding: 0;}#sk-container-id-2 div.sk-toggleable {background-color: white;}#sk-container-id-2 label.sk-toggleable__label {cursor: pointer;display: block;width: 100%;margin-bottom: 0;padding: 0.3em;box-sizing: border-box;text-align: center;}#sk-container-id-2 label.sk-toggleable__label-arrow:before {content: \"▸\";float: left;margin-right: 0.25em;color: #696969;}#sk-container-id-2 label.sk-toggleable__label-arrow:hover:before {color: black;}#sk-container-id-2 div.sk-estimator:hover label.sk-toggleable__label-arrow:before {color: black;}#sk-container-id-2 div.sk-toggleable__content {max-height: 0;max-width: 0;overflow: hidden;text-align: left;background-color: #f0f8ff;}#sk-container-id-2 div.sk-toggleable__content pre {margin: 0.2em;color: black;border-radius: 0.25em;background-color: #f0f8ff;}#sk-container-id-2 input.sk-toggleable__control:checked~div.sk-toggleable__content {max-height: 200px;max-width: 100%;overflow: auto;}#sk-container-id-2 input.sk-toggleable__control:checked~label.sk-toggleable__label-arrow:before {content: \"▾\";}#sk-container-id-2 div.sk-estimator input.sk-toggleable__control:checked~label.sk-toggleable__label {background-color: #d4ebff;}#sk-container-id-2 div.sk-label input.sk-toggleable__control:checked~label.sk-toggleable__label {background-color: #d4ebff;}#sk-container-id-2 input.sk-hidden--visually {border: 0;clip: rect(1px 1px 1px 1px);clip: rect(1px, 1px, 1px, 1px);height: 1px;margin: -1px;overflow: hidden;padding: 0;position: absolute;width: 1px;}#sk-container-id-2 div.sk-estimator {font-family: monospace;background-color: #f0f8ff;border: 1px dotted black;border-radius: 0.25em;box-sizing: border-box;margin-bottom: 0.5em;}#sk-container-id-2 div.sk-estimator:hover {background-color: #d4ebff;}#sk-container-id-2 div.sk-parallel-item::after {content: \"\";width: 100%;border-bottom: 1px solid gray;flex-grow: 1;}#sk-container-id-2 div.sk-label:hover label.sk-toggleable__label {background-color: #d4ebff;}#sk-container-id-2 div.sk-serial::before {content: \"\";position: absolute;border-left: 1px solid gray;box-sizing: border-box;top: 0;bottom: 0;left: 50%;z-index: 0;}#sk-container-id-2 div.sk-serial {display: flex;flex-direction: column;align-items: center;background-color: white;padding-right: 0.2em;padding-left: 0.2em;position: relative;}#sk-container-id-2 div.sk-item {position: relative;z-index: 1;}#sk-container-id-2 div.sk-parallel {display: flex;align-items: stretch;justify-content: center;background-color: white;position: relative;}#sk-container-id-2 div.sk-item::before, #sk-container-id-2 div.sk-parallel-item::before {content: \"\";position: absolute;border-left: 1px solid gray;box-sizing: border-box;top: 0;bottom: 0;left: 50%;z-index: -1;}#sk-container-id-2 div.sk-parallel-item {display: flex;flex-direction: column;z-index: 1;position: relative;background-color: white;}#sk-container-id-2 div.sk-parallel-item:first-child::after {align-self: flex-end;width: 50%;}#sk-container-id-2 div.sk-parallel-item:last-child::after {align-self: flex-start;width: 50%;}#sk-container-id-2 div.sk-parallel-item:only-child::after {width: 0;}#sk-container-id-2 div.sk-dashed-wrapped {border: 1px dashed gray;margin: 0 0.4em 0.5em 0.4em;box-sizing: border-box;padding-bottom: 0.4em;background-color: white;}#sk-container-id-2 div.sk-label label {font-family: monospace;font-weight: bold;display: inline-block;line-height: 1.2em;}#sk-container-id-2 div.sk-label-container {text-align: center;}#sk-container-id-2 div.sk-container {/* jupyter's `normalize.less` sets `[hidden] { display: none; }` but bootstrap.min.css set `[hidden] { display: none !important; }` so we also need the `!important` here to be able to override the default hidden behavior on the sphinx rendered scikit-learn.org. See: https://github.com/scikit-learn/scikit-learn/issues/21755 */display: inline-block !important;position: relative;}#sk-container-id-2 div.sk-text-repr-fallback {display: none;}</style><div id=\"sk-container-id-2\" class=\"sk-top-container\"><div class=\"sk-text-repr-fallback\"><pre>QuadraticDiscriminantAnalysis(store_covariance=True)</pre><b>In a Jupyter environment, please rerun this cell to show the HTML representation or trust the notebook. <br />On GitHub, the HTML representation is unable to render, please try loading this page with nbviewer.org.</b></div><div class=\"sk-container\" hidden><div class=\"sk-item\"><div class=\"sk-estimator sk-toggleable\"><input class=\"sk-toggleable__control sk-hidden--visually\" id=\"sk-estimator-id-2\" type=\"checkbox\" checked><label for=\"sk-estimator-id-2\" class=\"sk-toggleable__label sk-toggleable__label-arrow\">QuadraticDiscriminantAnalysis</label><div class=\"sk-toggleable__content\"><pre>QuadraticDiscriminantAnalysis(store_covariance=True)</pre></div></div></div></div></div>"
      ],
      "text/plain": [
       "QuadraticDiscriminantAnalysis(store_covariance=True)"
      ]
     },
     "execution_count": 30,
     "metadata": {},
     "output_type": "execute_result"
    }
   ],
   "source": [
    "qda = QDA(store_covariance=True) \n",
    "qda.fit(X_train, L_train)"
   ]
  },
  {
   "cell_type": "code",
   "execution_count": 31,
   "id": "5e4a8262",
   "metadata": {},
   "outputs": [
    {
     "data": {
      "text/plain": [
       "(array([[-0.03568254],\n",
       "        [ 0.26036581]]),\n",
       " array([0.44771574, 0.55228426]))"
      ]
     },
     "execution_count": 31,
     "metadata": {},
     "output_type": "execute_result"
    }
   ],
   "source": [
    "qda.means_, qda.priors_"
   ]
  },
  {
   "cell_type": "code",
   "execution_count": 32,
   "id": "bd315306",
   "metadata": {},
   "outputs": [
    {
     "data": {
      "text/plain": [
       "array([[4.83781758]])"
      ]
     },
     "execution_count": 32,
     "metadata": {},
     "output_type": "execute_result"
    }
   ],
   "source": [
    "qda.covariance_[0]"
   ]
  },
  {
   "cell_type": "code",
   "execution_count": 33,
   "id": "e6a751b8",
   "metadata": {},
   "outputs": [
    {
     "data": {
      "text/html": [
       "<div>\n",
       "<style scoped>\n",
       "    .dataframe tbody tr th:only-of-type {\n",
       "        vertical-align: middle;\n",
       "    }\n",
       "\n",
       "    .dataframe tbody tr th {\n",
       "        vertical-align: top;\n",
       "    }\n",
       "\n",
       "    .dataframe thead th {\n",
       "        text-align: right;\n",
       "    }\n",
       "</style>\n",
       "<table border=\"1\" class=\"dataframe\">\n",
       "  <thead>\n",
       "    <tr style=\"text-align: right;\">\n",
       "      <th>Truth</th>\n",
       "      <th>Down</th>\n",
       "      <th>Up</th>\n",
       "    </tr>\n",
       "    <tr>\n",
       "      <th>Predicted</th>\n",
       "      <th></th>\n",
       "      <th></th>\n",
       "    </tr>\n",
       "  </thead>\n",
       "  <tbody>\n",
       "    <tr>\n",
       "      <th>Down</th>\n",
       "      <td>0</td>\n",
       "      <td>0</td>\n",
       "    </tr>\n",
       "    <tr>\n",
       "      <th>Up</th>\n",
       "      <td>43</td>\n",
       "      <td>61</td>\n",
       "    </tr>\n",
       "  </tbody>\n",
       "</table>\n",
       "</div>"
      ],
      "text/plain": [
       "Truth      Down  Up\n",
       "Predicted          \n",
       "Down          0   0\n",
       "Up           43  61"
      ]
     },
     "execution_count": 33,
     "metadata": {},
     "output_type": "execute_result"
    }
   ],
   "source": [
    "qda_pred = qda.predict(X_test) \n",
    "confusion_table(qda_pred, L_test)"
   ]
  },
  {
   "cell_type": "code",
   "execution_count": 34,
   "id": "a7872b39",
   "metadata": {},
   "outputs": [
    {
     "data": {
      "text/plain": [
       "0.5865384615384616"
      ]
     },
     "execution_count": 34,
     "metadata": {},
     "output_type": "execute_result"
    }
   ],
   "source": [
    "(61+0)/104"
   ]
  },
  {
   "cell_type": "markdown",
   "id": "1bccb826",
   "metadata": {},
   "source": [
    "<strong>Conclusion:</strong> QDA provided an accuracy of 58.65% which is lower than the previous methods. We also see that it did not predict downward weekly trends, only upwards."
   ]
  },
  {
   "cell_type": "markdown",
   "id": "0d54b944",
   "metadata": {},
   "source": [
    "### g). Repeat (d) using KNN with K = 1."
   ]
  },
  {
   "cell_type": "code",
   "execution_count": 35,
   "id": "cf1f0861",
   "metadata": {},
   "outputs": [
    {
     "data": {
      "text/html": [
       "<div>\n",
       "<style scoped>\n",
       "    .dataframe tbody tr th:only-of-type {\n",
       "        vertical-align: middle;\n",
       "    }\n",
       "\n",
       "    .dataframe tbody tr th {\n",
       "        vertical-align: top;\n",
       "    }\n",
       "\n",
       "    .dataframe thead th {\n",
       "        text-align: right;\n",
       "    }\n",
       "</style>\n",
       "<table border=\"1\" class=\"dataframe\">\n",
       "  <thead>\n",
       "    <tr style=\"text-align: right;\">\n",
       "      <th>Truth</th>\n",
       "      <th>Down</th>\n",
       "      <th>Up</th>\n",
       "    </tr>\n",
       "    <tr>\n",
       "      <th>Predicted</th>\n",
       "      <th></th>\n",
       "      <th></th>\n",
       "    </tr>\n",
       "  </thead>\n",
       "  <tbody>\n",
       "    <tr>\n",
       "      <th>Down</th>\n",
       "      <td>21</td>\n",
       "      <td>30</td>\n",
       "    </tr>\n",
       "    <tr>\n",
       "      <th>Up</th>\n",
       "      <td>22</td>\n",
       "      <td>31</td>\n",
       "    </tr>\n",
       "  </tbody>\n",
       "</table>\n",
       "</div>"
      ],
      "text/plain": [
       "Truth      Down  Up\n",
       "Predicted          \n",
       "Down         21  30\n",
       "Up           22  31"
      ]
     },
     "execution_count": 35,
     "metadata": {},
     "output_type": "execute_result"
    }
   ],
   "source": [
    "knn1 = KNeighborsClassifier(n_neighbors=1) \n",
    "knn1.fit(X_train, L_train)\n",
    "knn1_pred = knn1.predict(X_test) \n",
    "confusion_table(knn1_pred, L_test)"
   ]
  },
  {
   "cell_type": "code",
   "execution_count": 36,
   "id": "610b1436",
   "metadata": {},
   "outputs": [
    {
     "data": {
      "text/plain": [
       "0.5"
      ]
     },
     "execution_count": 36,
     "metadata": {},
     "output_type": "execute_result"
    }
   ],
   "source": [
    "(31+21)/104"
   ]
  },
  {
   "cell_type": "markdown",
   "id": "07d834a4",
   "metadata": {},
   "source": [
    "<strong>Conclusion:</strong> This is worse than all of the other methods, with a percentage of 50% you might as well guess or flip a coin to see if it would be a downward or upward trend."
   ]
  },
  {
   "cell_type": "markdown",
   "id": "e72960ca",
   "metadata": {},
   "source": [
    "### h). Which of these methods appears to provide the best results on this data?"
   ]
  },
  {
   "cell_type": "markdown",
   "id": "124e7fba",
   "metadata": {},
   "source": [
    "<strong>Conclusion:</strong> It appears that both <strong><u>Logistic Regression</u></strong> and <strong><u>LDA</u></strong> have the highest accuracy 62.5%."
   ]
  },
  {
   "cell_type": "markdown",
   "id": "c5e09b00",
   "metadata": {},
   "source": [
    "### i). Experiment with different combinations of predictors, including possible transformations and interactions, for each of the methods. \n",
    "Report the variables, method, and associated confusion matrix that appears to provide the best results on the held out data. Note that you should also experiment with values for K in the KNN classifier."
   ]
  },
  {
   "cell_type": "code",
   "execution_count": null,
   "id": "c2ce3497",
   "metadata": {},
   "outputs": [],
   "source": []
  },
  {
   "cell_type": "markdown",
   "id": "321d70df",
   "metadata": {},
   "source": [
    "## 2. Question written by the instructor \n",
    "\n",
    "In this assignment you are asked to perform classification using various classifiers on the iris data set; for a detailed description of the data, see https://archive.ics.uci.edu/dataset/53/iris."
   ]
  },
  {
   "cell_type": "markdown",
   "id": "cbd1eead",
   "metadata": {},
   "source": [
    "### (1) First, load the data into Python using the following scripts."
   ]
  },
  {
   "cell_type": "code",
   "execution_count": 37,
   "id": "78551713",
   "metadata": {},
   "outputs": [],
   "source": [
    "from sklearn import datasets\n",
    "from sklearn.decomposition import PCA\n",
    "from sklearn.preprocessing import StandardScaler\n",
    "iris = datasets.load_iris()"
   ]
  },
  {
   "cell_type": "markdown",
   "id": "3c1abe59",
   "metadata": {},
   "source": [
    "The features are stored in iris['data'] and the labels are in iris['target']."
   ]
  },
  {
   "cell_type": "markdown",
   "id": "88512f0d",
   "metadata": {},
   "source": [
    "### Afterwards, standardize the features and apply 2D PCA to the standardized data. Plot the first two principal components of the data, color coded by the true labels.\n"
   ]
  },
  {
   "cell_type": "code",
   "execution_count": 38,
   "id": "7e1585ef",
   "metadata": {},
   "outputs": [
    {
     "data": {
      "text/plain": [
       "array(['setosa', 'versicolor', 'virginica'], dtype='<U10')"
      ]
     },
     "execution_count": 38,
     "metadata": {},
     "output_type": "execute_result"
    }
   ],
   "source": [
    "iris.target_names"
   ]
  },
  {
   "cell_type": "code",
   "execution_count": 39,
   "id": "e341e8c5",
   "metadata": {
    "scrolled": false
   },
   "outputs": [],
   "source": [
    "scaler = StandardScaler(with_std=True, with_mean=True)\n",
    "iris_scaled = scaler.fit_transform(iris['data'])"
   ]
  },
  {
   "cell_type": "code",
   "execution_count": 40,
   "id": "c730d739",
   "metadata": {},
   "outputs": [],
   "source": [
    "pca = PCA()\n",
    "scores = pca.fit_transform(iris_scaled)"
   ]
  },
  {
   "cell_type": "code",
   "execution_count": 41,
   "id": "9903666b",
   "metadata": {},
   "outputs": [
    {
     "data": {
      "text/plain": [
       "array([[ 0.52106591, -0.26934744,  0.5804131 ,  0.56485654],\n",
       "       [ 0.37741762,  0.92329566,  0.02449161,  0.06694199],\n",
       "       [-0.71956635,  0.24438178,  0.14212637,  0.63427274],\n",
       "       [-0.26128628,  0.12350962,  0.80144925, -0.52359713]])"
      ]
     },
     "execution_count": 41,
     "metadata": {},
     "output_type": "execute_result"
    }
   ],
   "source": [
    "pca.components_"
   ]
  },
  {
   "cell_type": "code",
   "execution_count": 42,
   "id": "329577d5",
   "metadata": {
    "scrolled": false
   },
   "outputs": [
    {
     "data": {
      "text/plain": [
       "Text(0, 0.5, 'PC2')"
      ]
     },
     "execution_count": 42,
     "metadata": {},
     "output_type": "execute_result"
    },
    {
     "data": {
      "image/png": "[encoded data removed]",
      "text/plain": [
       "<Figure size 800x800 with 1 Axes>"
      ]
     },
     "metadata": {},
     "output_type": "display_data"
    }
   ],
   "source": [
    "import matplotlib.pyplot as plt\n",
    "i, j = 0, 1 # which components\n",
    "fig, ax = plt.subplots(1, 1, figsize=(8, 8)) \n",
    "ax.scatter(scores[:,0], scores[:,1], c=iris['target']) \n",
    "ax.set_xlabel('PC%d' % (i+1)) \n",
    "ax.set_ylabel('PC%d' % (j+1))\n",
    "\n",
    "# for k in range(pca.components_.shape[1]):\n",
    "#     ax.arrow(0, 0, pca.components_[i,k], pca.components_[j,k]) \n",
    "#     ax.text(pca.components_[i,k], pca.components_[j,k], iris['target_names'][k])"
   ]
  },
  {
   "cell_type": "markdown",
   "id": "69b799c5",
   "metadata": {},
   "source": [
    "### (2) Now focus on the two classes, 'versicolor' and 'virginica', and fit a binary logistic regression model. What is the training error? Plot also the decision boundary.\n"
   ]
  },
  {
   "cell_type": "code",
   "execution_count": 43,
   "id": "b256da88",
   "metadata": {},
   "outputs": [],
   "source": [
    "import numpy as np\n",
    "from sklearn import linear_model\n",
    "import matplotlib.pyplot as plt"
   ]
  },
  {
   "cell_type": "code",
   "execution_count": 44,
   "id": "3af07625",
   "metadata": {},
   "outputs": [
    {
     "data": {
      "text/plain": [
       "(100,)"
      ]
     },
     "execution_count": 44,
     "metadata": {},
     "output_type": "execute_result"
    }
   ],
   "source": [
    "newScores = scores[50:,0]\n",
    "newScores.shape"
   ]
  },
  {
   "cell_type": "code",
   "execution_count": 45,
   "id": "6b7a6455",
   "metadata": {},
   "outputs": [],
   "source": [
    "X = newScores.reshape(-1,1)\n",
    "y = iris.target"
   ]
  },
  {
   "cell_type": "code",
   "execution_count": 46,
   "id": "25b12bc3",
   "metadata": {},
   "outputs": [
    {
     "data": {
      "text/plain": [
       "array([0, 0, 0, 0, 0, 0, 0, 0, 0, 0, 0, 0, 0, 0, 0, 0, 0, 0, 0, 0, 0, 0,\n",
       "       0, 0, 0, 0, 0, 0, 0, 0, 0, 0, 0, 0, 0, 0, 0, 0, 0, 0, 0, 0, 0, 0,\n",
       "       0, 0, 0, 0, 0, 0, 1, 1, 1, 1, 1, 1, 1, 1, 1, 1, 1, 1, 1, 1, 1, 1,\n",
       "       1, 1, 1, 1, 1, 1, 1, 1, 1, 1, 1, 1, 1, 1, 1, 1, 1, 1, 1, 1, 1, 1,\n",
       "       1, 1, 1, 1, 1, 1, 1, 1, 1, 1, 1, 1])"
      ]
     },
     "execution_count": 46,
     "metadata": {},
     "output_type": "execute_result"
    }
   ],
   "source": [
    "y = y[y != 0] #Exclude 0, which is Setosa\n",
    "y = np.where(y == 1, 0, np.where(y == 2, 1, y)) # Flip 1's to 0 and 2's to 1\n",
    "y"
   ]
  },
  {
   "cell_type": "code",
   "execution_count": 47,
   "id": "2fdfb1ed",
   "metadata": {},
   "outputs": [
    {
     "data": {
      "image/png": "[encoded data removed]",
      "text/plain": [
       "<Figure size 640x480 with 1 Axes>"
      ]
     },
     "metadata": {},
     "output_type": "display_data"
    }
   ],
   "source": [
    "plt.scatter(X, y, c=y, marker='s');"
   ]
  },
  {
   "cell_type": "code",
   "execution_count": 49,
   "id": "3c9eee62",
   "metadata": {
    "scrolled": false
   },
   "outputs": [
    {
     "name": "stdout",
     "output_type": "stream",
     "text": [
      "[-6.02278935]\n",
      "[[5.51778201]]\n"
     ]
    }
   ],
   "source": [
    "LRmodel = linear_model.LogisticRegression(penalty=None).fit(X, y.ravel())\n",
    "print(LRmodel.intercept_)  # location parameter (theta_0)\n",
    "print(LRmodel.coef_)   # scale parameter (theta_1)"
   ]
  },
  {
   "cell_type": "code",
   "execution_count": 50,
   "id": "ce88b9c9",
   "metadata": {
    "scrolled": true
   },
   "outputs": [
    {
     "name": "stdout",
     "output_type": "stream",
     "text": [
      "[[4.85854015e-01 5.14145985e-01]\n",
      " [8.79470858e-01 1.20529142e-01]\n",
      " [3.04774516e-01 6.95225484e-01]\n",
      " [9.77563774e-01 2.24362258e-02]\n",
      " [5.22124142e-01 4.77875858e-01]\n",
      " [9.79729251e-01 2.02707489e-02]\n",
      " [8.70298542e-01 1.29701458e-01]\n",
      " [9.99835384e-01 1.64616071e-04]\n",
      " [7.11530799e-01 2.88469201e-01]\n",
      " [9.97426065e-01 2.57393510e-03]\n",
      " [9.98682668e-01 1.31733226e-03]\n",
      " [9.73172633e-01 2.68273671e-02]\n",
      " [9.48884449e-01 5.11155514e-02]\n",
      " [8.86190274e-01 1.13809726e-01]\n",
      " [9.97988444e-01 2.01155563e-03]\n",
      " [7.67184906e-01 2.32815094e-01]\n",
      " [9.83539221e-01 1.64607790e-02]\n",
      " [9.94213993e-01 5.78600658e-03]\n",
      " [3.23658262e-01 6.76341738e-01]\n",
      " [9.94016858e-01 5.98314193e-03]\n",
      " [8.75709985e-01 1.24290015e-01]\n",
      " [9.67539757e-01 3.24602434e-02]\n",
      " [3.12783879e-01 6.87216121e-01]\n",
      " [9.26274081e-01 7.37259187e-02]\n",
      " [8.95262346e-01 1.04737654e-01]\n",
      " [7.68300188e-01 2.31699812e-01]\n",
      " [2.86927393e-01 7.13072607e-01]\n",
      " [1.86548660e-01 8.13451340e-01]\n",
      " [9.13296461e-01 8.67035387e-02]\n",
      " [9.98063486e-01 1.93651371e-03]\n",
      " [9.95038583e-01 4.96141722e-03]\n",
      " [9.97249950e-01 2.75004952e-03]\n",
      " [9.90897246e-01 9.10275423e-03]\n",
      " [5.41876819e-01 4.58123181e-01]\n",
      " [9.91730877e-01 8.26912315e-03]\n",
      " [9.74787836e-01 2.52121642e-02]\n",
      " [5.58761350e-01 4.41238650e-01]\n",
      " [5.64462454e-01 4.35537546e-01]\n",
      " [9.96455531e-01 3.54446897e-03]\n",
      " [9.88554235e-01 1.14457647e-02]\n",
      " [9.88825672e-01 1.11743283e-02]\n",
      " [9.29337004e-01 7.06629962e-02]\n",
      " [9.84721137e-01 1.52788629e-02]\n",
      " [9.99671695e-01 3.28305273e-04]\n",
      " [9.88230836e-01 1.17691643e-02]\n",
      " [9.96004890e-01 3.99510955e-03]\n",
      " [9.91560001e-01 8.43999855e-03]\n",
      " [9.44924727e-01 5.50752731e-02]\n",
      " [9.99795128e-01 2.04872389e-04]\n",
      " [9.90109158e-01 9.89084195e-03]\n",
      " [1.54414249e-02 9.84558575e-01]\n",
      " [4.09471888e-01 5.90528112e-01]\n",
      " [2.13875130e-03 9.97861249e-01]\n",
      " [1.27455310e-01 8.72544690e-01]\n",
      " [1.36080626e-02 9.86391937e-01]\n",
      " [1.04999723e-04 9.99895000e-01]\n",
      " [9.81972514e-01 1.80274855e-02]\n",
      " [1.25223838e-03 9.98747762e-01]\n",
      " [6.37060948e-03 9.93629391e-01]\n",
      " [1.58407476e-03 9.98415925e-01]\n",
      " [1.81765193e-01 8.18234807e-01]\n",
      " [5.62294629e-02 9.43770537e-01]\n",
      " [1.24665162e-02 9.87533484e-01]\n",
      " [2.82873779e-01 7.17126221e-01]\n",
      " [1.11515170e-01 8.88484830e-01]\n",
      " [6.00352394e-02 9.39964761e-01]\n",
      " [1.09461963e-01 8.90538037e-01]\n",
      " [6.32520572e-04 9.99367479e-01]\n",
      " [4.80952611e-06 9.99995190e-01]\n",
      " [2.78804452e-01 7.21195548e-01]\n",
      " [5.37351507e-03 9.94626485e-01]\n",
      " [6.51696525e-01 3.48303475e-01]\n",
      " [4.69763205e-05 9.99953024e-01]\n",
      " [2.08548798e-01 7.91451202e-01]\n",
      " [3.35209321e-02 9.66479068e-01]\n",
      " [8.48647058e-03 9.91513529e-01]\n",
      " [3.86706802e-01 6.13293198e-01]\n",
      " [5.96139882e-01 4.03860118e-01]\n",
      " [2.09399190e-02 9.79060081e-01]\n",
      " [1.39199895e-02 9.86080011e-01]\n",
      " [5.99825176e-04 9.99400175e-01]\n",
      " [1.23518401e-03 9.98764816e-01]\n",
      " [1.39916932e-02 9.86008307e-01]\n",
      " [4.68831713e-01 5.31168287e-01]\n",
      " [3.51558377e-01 6.48441623e-01]\n",
      " [8.10619446e-05 9.99918938e-01]\n",
      " [6.44860486e-02 9.35513951e-01]\n",
      " [1.96904151e-01 8.03095849e-01]\n",
      " [7.15002791e-01 2.84997209e-01]\n",
      " [1.48266479e-02 9.85173352e-01]\n",
      " [6.09304645e-03 9.93906954e-01]\n",
      " [1.13083547e-02 9.88691645e-01]\n",
      " [4.09471888e-01 5.90528112e-01]\n",
      " [5.29035180e-03 9.94709648e-01]\n",
      " [6.67591468e-03 9.93324085e-01]\n",
      " [1.34101823e-02 9.86589818e-01]\n",
      " [6.84832682e-02 9.31516732e-01]\n",
      " [8.54345951e-02 9.14565405e-01]\n",
      " [1.74804168e-01 8.25195832e-01]\n",
      " [6.73069017e-01 3.26930983e-01]]\n"
     ]
    }
   ],
   "source": [
    "prob = LRmodel.predict_proba(X)  # fitted probabilities [P(Y=0), P(Y=1)]\n",
    "print(prob)"
   ]
  },
  {
   "cell_type": "code",
   "execution_count": 51,
   "id": "0f000a7f",
   "metadata": {},
   "outputs": [
    {
     "name": "stdout",
     "output_type": "stream",
     "text": [
      "[1 0 1 0 0 0 0 0 0 0 0 0 0 0 0 0 0 0 1 0 0 0 1 0 0 0 1 1 0 0 0 0 0 0 0 0 0\n",
      " 0 0 0 0 0 0 0 0 0 0 0 0 0 1 1 1 1 1 1 0 1 1 1 1 1 1 1 1 1 1 1 1 1 1 0 1 1\n",
      " 1 1 1 0 1 1 1 1 1 1 1 1 1 1 0 1 1 1 1 1 1 1 1 1 1 0]\n"
     ]
    }
   ],
   "source": [
    "pred = LRmodel.predict(X)  # prediction of labels\n",
    "print(pred)"
   ]
  },
  {
   "cell_type": "code",
   "execution_count": 52,
   "id": "448827a7",
   "metadata": {
    "scrolled": false
   },
   "outputs": [
    {
     "data": {
      "image/png": "[encoded data removed]",
      "text/plain": [
       "<Figure size 640x480 with 1 Axes>"
      ]
     },
     "metadata": {},
     "output_type": "display_data"
    }
   ],
   "source": [
    "plt.scatter(X, y, c=y, marker='s');\n",
    "plt.scatter(X,prob[:,1],marker='*');"
   ]
  },
  {
   "cell_type": "markdown",
   "id": "f77cb537",
   "metadata": {},
   "source": [
    "#### LR – Decision Boundary:"
   ]
  },
  {
   "cell_type": "code",
   "execution_count": 53,
   "id": "7bfce89f",
   "metadata": {},
   "outputs": [
    {
     "data": {
      "text/html": [
       "<div>\n",
       "<style scoped>\n",
       "    .dataframe tbody tr th:only-of-type {\n",
       "        vertical-align: middle;\n",
       "    }\n",
       "\n",
       "    .dataframe tbody tr th {\n",
       "        vertical-align: top;\n",
       "    }\n",
       "\n",
       "    .dataframe thead th {\n",
       "        text-align: right;\n",
       "    }\n",
       "</style>\n",
       "<table border=\"1\" class=\"dataframe\">\n",
       "  <thead>\n",
       "    <tr style=\"text-align: right;\">\n",
       "      <th>Truth</th>\n",
       "      <th>1</th>\n",
       "      <th>2</th>\n",
       "    </tr>\n",
       "    <tr>\n",
       "      <th>Predicted</th>\n",
       "      <th></th>\n",
       "      <th></th>\n",
       "    </tr>\n",
       "  </thead>\n",
       "  <tbody>\n",
       "    <tr>\n",
       "      <th>1</th>\n",
       "      <td>43</td>\n",
       "      <td>5</td>\n",
       "    </tr>\n",
       "    <tr>\n",
       "      <th>2</th>\n",
       "      <td>7</td>\n",
       "      <td>45</td>\n",
       "    </tr>\n",
       "  </tbody>\n",
       "</table>\n",
       "</div>"
      ],
      "text/plain": [
       "Truth       1   2\n",
       "Predicted        \n",
       "1          43   5\n",
       "2           7  45"
      ]
     },
     "execution_count": 53,
     "metadata": {},
     "output_type": "execute_result"
    }
   ],
   "source": [
    "y = np.logical_or(iris.target==1, iris.target==2)\n",
    "x1o2 = scores[y, :2]\n",
    "target = iris.target[y]\n",
    "LRModel = linear_model.LogisticRegression(penalty=None).fit(x1o2, target)\n",
    "LRpredict = LRModel.predict(x1o2)\n",
    "confusion_table(LRpredict, target)"
   ]
  },
  {
   "cell_type": "code",
   "execution_count": 54,
   "id": "fa4bbe30",
   "metadata": {},
   "outputs": [
    {
     "name": "stdout",
     "output_type": "stream",
     "text": [
      "0.88 0.12\n"
     ]
    }
   ],
   "source": [
    "print(np.mean(LRpredict == target), np.mean(LRpredict != target));"
   ]
  },
  {
   "cell_type": "markdown",
   "id": "2efe7a7e",
   "metadata": {},
   "source": [
    "<strong>Training Error:</strong> The training error for binary logistic regression is 88% accuracy, which is ok but not the best."
   ]
  },
  {
   "cell_type": "code",
   "execution_count": 55,
   "id": "053205ee",
   "metadata": {},
   "outputs": [
    {
     "data": {
      "text/plain": [
       "((100,), (100,))"
      ]
     },
     "execution_count": 55,
     "metadata": {},
     "output_type": "execute_result"
    }
   ],
   "source": [
    "newScoresX = scores[50:,0]\n",
    "newScoresY = scores[50:,1]\n",
    "newScoresX.shape, newScoresY.shape"
   ]
  },
  {
   "cell_type": "code",
   "execution_count": 56,
   "id": "36d7fa2d",
   "metadata": {},
   "outputs": [
    {
     "data": {
      "text/plain": [
       "array([0, 0, 0, 0, 0, 0, 0, 0, 0, 0, 0, 0, 0, 0, 0, 0, 0, 0, 0, 0, 0, 0,\n",
       "       0, 0, 0, 0, 0, 0, 0, 0, 0, 0, 0, 0, 0, 0, 0, 0, 0, 0, 0, 0, 0, 0,\n",
       "       0, 0, 0, 0, 0, 0, 1, 1, 1, 1, 1, 1, 1, 1, 1, 1, 1, 1, 1, 1, 1, 1,\n",
       "       1, 1, 1, 1, 1, 1, 1, 1, 1, 1, 1, 1, 1, 1, 1, 1, 1, 1, 1, 1, 1, 1,\n",
       "       1, 1, 1, 1, 1, 1, 1, 1, 1, 1, 1, 1])"
      ]
     },
     "execution_count": 56,
     "metadata": {},
     "output_type": "execute_result"
    }
   ],
   "source": [
    "y = iris.target\n",
    "y = y[y != 0] #Exclude 0, which is Seratosa\n",
    "y = np.where(y == 1, 0, np.where(y == 2, 1, y)) # Flip 1's to 0 and 2's to 1\n",
    "y"
   ]
  },
  {
   "cell_type": "code",
   "execution_count": 57,
   "id": "823a1cc4",
   "metadata": {},
   "outputs": [],
   "source": [
    "X = newScoresX.reshape(-1,2)\n",
    "truelabels = y\n",
    "y = newScoresY.reshape(-1,2)"
   ]
  },
  {
   "cell_type": "code",
   "execution_count": 58,
   "id": "9812bb06",
   "metadata": {},
   "outputs": [],
   "source": [
    "X = np.concatenate((X, y), axis=0)"
   ]
  },
  {
   "cell_type": "code",
   "execution_count": 59,
   "id": "85a5405f",
   "metadata": {},
   "outputs": [
    {
     "data": {
      "text/plain": [
       "array([0, 0, 0, 0, 0, 0, 0, 0, 0, 0, 0, 0, 0, 0, 0, 0, 0, 0, 0, 0, 0, 0,\n",
       "       0, 0, 0, 0, 0, 0, 0, 0, 0, 0, 0, 0, 0, 0, 0, 0, 0, 0, 0, 0, 0, 0,\n",
       "       0, 0, 0, 0, 0, 0, 1, 1, 1, 1, 1, 1, 1, 1, 1, 1, 1, 1, 1, 1, 1, 1,\n",
       "       1, 1, 1, 1, 1, 1, 1, 1, 1, 1, 1, 1, 1, 1, 1, 1, 1, 1, 1, 1, 1, 1,\n",
       "       1, 1, 1, 1, 1, 1, 1, 1, 1, 1, 1, 1])"
      ]
     },
     "execution_count": 59,
     "metadata": {},
     "output_type": "execute_result"
    }
   ],
   "source": [
    "truelabels"
   ]
  },
  {
   "cell_type": "code",
   "execution_count": 60,
   "id": "9e85ea4e",
   "metadata": {},
   "outputs": [
    {
     "data": {
      "image/png": "[encoded data removed]",
      "text/plain": [
       "<Figure size 640x480 with 1 Axes>"
      ]
     },
     "metadata": {},
     "output_type": "display_data"
    }
   ],
   "source": [
    "plt.scatter(x=X[:,0], y=X[:,1], c=truelabels);   # plot the data"
   ]
  },
  {
   "cell_type": "code",
   "execution_count": 61,
   "id": "412459ce",
   "metadata": {},
   "outputs": [],
   "source": [
    "LRmodel = linear_model.LogisticRegression(penalty=None).fit(X, truelabels.ravel())\n",
    "LRprobs = LRmodel.predict_proba(X)  # fitted probxabilities"
   ]
  },
  {
   "cell_type": "code",
   "execution_count": 62,
   "id": "5d57e4ff",
   "metadata": {},
   "outputs": [
    {
     "data": {
      "text/plain": [
       "array([[-1.90902945, -0.86269382]])"
      ]
     },
     "execution_count": 62,
     "metadata": {},
     "output_type": "execute_result"
    }
   ],
   "source": [
    "LRmodel.coef_"
   ]
  },
  {
   "cell_type": "code",
   "execution_count": 63,
   "id": "ea8e792e",
   "metadata": {},
   "outputs": [
    {
     "data": {
      "text/plain": [
       "array([1.27142862])"
      ]
     },
     "execution_count": 63,
     "metadata": {},
     "output_type": "execute_result"
    }
   ],
   "source": [
    "LRmodel.intercept_"
   ]
  },
  {
   "cell_type": "code",
   "execution_count": 64,
   "id": "6d192f76",
   "metadata": {},
   "outputs": [
    {
     "data": {
      "text/plain": [
       "21"
      ]
     },
     "execution_count": 64,
     "metadata": {},
     "output_type": "execute_result"
    }
   ],
   "source": [
    "np.sum(LRmodel.predict(X)-truelabels.ravel() != 0)"
   ]
  },
  {
   "cell_type": "markdown",
   "id": "4b11b1f2",
   "metadata": {},
   "source": [
    "##### Decision Boundary:"
   ]
  },
  {
   "cell_type": "code",
   "execution_count": 65,
   "id": "de3306fb",
   "metadata": {
    "scrolled": false
   },
   "outputs": [
    {
     "data": {
      "image/png": "[encoded data removed]",
      "text/plain": [
       "<Figure size 800x600 with 2 Axes>"
      ]
     },
     "metadata": {},
     "output_type": "display_data"
    }
   ],
   "source": [
    "# Next, make a continuous grid of values and evaluate the probability of each (x, y) point in the grid:\n",
    "\n",
    "xx, yy = np.mgrid[-3.5:3.5:.01, -3.5:3.5:.01]\n",
    "grid = np.c_[xx.ravel(), yy.ravel()]\n",
    "LRprobs = LRmodel.predict_proba(grid)[:, 1].reshape(xx.shape)\n",
    "\n",
    "# Now, plot the probability grid as a contour map and additionally show the test set samples on top of it:\n",
    "\n",
    "f, ax = plt.subplots(figsize=(8, 6))\n",
    "contour = ax.contourf(xx, yy, LRprobs, 30, cmap=\"RdBu\", vmin=-0.5, vmax=1.5)\n",
    "ax_c = f.colorbar(contour)\n",
    "ax_c.set_label(\"$P(y = 1)$\")\n",
    "ax_c.set_ticks([0, .25, .5, .75, 1])\n",
    "\n",
    "ax.scatter(X[:,0], X[:,1], c=truelabels, s=30,\n",
    "           cmap=\"RdBu\", vmin=-0.25, vmax=1.25,\n",
    "           edgecolor=\"black\", linewidth=1);\n",
    "\n",
    "ax.set(aspect=\"equal\",\n",
    "       xlim=(-3, 3), ylim=(-3, 3),\n",
    "       xlabel=\"$X_1$\", ylabel=\"$X_2$\");"
   ]
  },
  {
   "cell_type": "markdown",
   "id": "3e0f100b",
   "metadata": {},
   "source": [
    "### (3) For the above two iris classes, fit two more models: LDA and QDA. What are their training error rates? Plot their decision boundaries together with the binary logistic regression model. Which model do you think is the most appropriate for these two classes? "
   ]
  },
  {
   "cell_type": "markdown",
   "id": "8ea178e0",
   "metadata": {},
   "source": [
    "#### LDA:"
   ]
  },
  {
   "cell_type": "code",
   "execution_count": 66,
   "id": "db0e82a3",
   "metadata": {},
   "outputs": [
    {
     "data": {
      "text/plain": [
       "21"
      ]
     },
     "execution_count": 66,
     "metadata": {},
     "output_type": "execute_result"
    }
   ],
   "source": [
    "LDAModel = lda.fit(X, truelabels.ravel())\n",
    "\n",
    "np.sum(lda.predict(X)-truelabels.ravel() != 0)"
   ]
  },
  {
   "cell_type": "code",
   "execution_count": 67,
   "id": "c2952f0e",
   "metadata": {},
   "outputs": [
    {
     "name": "stdout",
     "output_type": "stream",
     "text": [
      "0.37 0.63\n"
     ]
    }
   ],
   "source": [
    "y = np.logical_or(iris.target==1, iris.target==2)\n",
    "x1o2 = scores[y, :2]\n",
    "target = iris.target[y]\n",
    "LDApredict = LDAModel.predict(x1o2)\n",
    "print(np.mean(LDApredict == target), np.mean(LDApredict != target));"
   ]
  },
  {
   "cell_type": "code",
   "execution_count": 68,
   "id": "bc8d1eab",
   "metadata": {},
   "outputs": [
    {
     "data": {
      "text/html": [
       "<div>\n",
       "<style scoped>\n",
       "    .dataframe tbody tr th:only-of-type {\n",
       "        vertical-align: middle;\n",
       "    }\n",
       "\n",
       "    .dataframe tbody tr th {\n",
       "        vertical-align: top;\n",
       "    }\n",
       "\n",
       "    .dataframe thead th {\n",
       "        text-align: right;\n",
       "    }\n",
       "</style>\n",
       "<table border=\"1\" class=\"dataframe\">\n",
       "  <thead>\n",
       "    <tr style=\"text-align: right;\">\n",
       "      <th>Truth</th>\n",
       "      <th>0</th>\n",
       "      <th>1</th>\n",
       "      <th>2</th>\n",
       "    </tr>\n",
       "    <tr>\n",
       "      <th>Predicted</th>\n",
       "      <th></th>\n",
       "      <th></th>\n",
       "      <th></th>\n",
       "    </tr>\n",
       "  </thead>\n",
       "  <tbody>\n",
       "    <tr>\n",
       "      <th>0</th>\n",
       "      <td>0</td>\n",
       "      <td>13</td>\n",
       "      <td>43</td>\n",
       "    </tr>\n",
       "    <tr>\n",
       "      <th>1</th>\n",
       "      <td>0</td>\n",
       "      <td>37</td>\n",
       "      <td>7</td>\n",
       "    </tr>\n",
       "    <tr>\n",
       "      <th>2</th>\n",
       "      <td>0</td>\n",
       "      <td>0</td>\n",
       "      <td>0</td>\n",
       "    </tr>\n",
       "  </tbody>\n",
       "</table>\n",
       "</div>"
      ],
      "text/plain": [
       "Truth      0   1   2\n",
       "Predicted           \n",
       "0          0  13  43\n",
       "1          0  37   7\n",
       "2          0   0   0"
      ]
     },
     "execution_count": 68,
     "metadata": {},
     "output_type": "execute_result"
    }
   ],
   "source": [
    "confusion_table(LDApredict, target)"
   ]
  },
  {
   "cell_type": "markdown",
   "id": "2fb2c2bd",
   "metadata": {},
   "source": [
    "#### QDA:"
   ]
  },
  {
   "cell_type": "code",
   "execution_count": 69,
   "id": "353b11b5",
   "metadata": {},
   "outputs": [
    {
     "data": {
      "text/plain": [
       "17"
      ]
     },
     "execution_count": 69,
     "metadata": {},
     "output_type": "execute_result"
    }
   ],
   "source": [
    "QDAModel = qda.fit(X, truelabels.ravel())\n",
    "\n",
    "np.sum(qda.predict(X)-truelabels.ravel() != 0)"
   ]
  },
  {
   "cell_type": "code",
   "execution_count": 70,
   "id": "4ea2f1cd",
   "metadata": {},
   "outputs": [
    {
     "name": "stdout",
     "output_type": "stream",
     "text": [
      "0.37 0.63\n"
     ]
    }
   ],
   "source": [
    "y = np.logical_or(iris.target==1, iris.target==2)\n",
    "x1o2 = scores[y, :2]\n",
    "target = iris.target[y]\n",
    "QDApredict = QDAModel.predict(x1o2)\n",
    "print(np.mean(QDApredict == target), np.mean(QDApredict != target));"
   ]
  },
  {
   "cell_type": "code",
   "execution_count": 71,
   "id": "b6aec36c",
   "metadata": {},
   "outputs": [
    {
     "data": {
      "text/html": [
       "<div>\n",
       "<style scoped>\n",
       "    .dataframe tbody tr th:only-of-type {\n",
       "        vertical-align: middle;\n",
       "    }\n",
       "\n",
       "    .dataframe tbody tr th {\n",
       "        vertical-align: top;\n",
       "    }\n",
       "\n",
       "    .dataframe thead th {\n",
       "        text-align: right;\n",
       "    }\n",
       "</style>\n",
       "<table border=\"1\" class=\"dataframe\">\n",
       "  <thead>\n",
       "    <tr style=\"text-align: right;\">\n",
       "      <th>Truth</th>\n",
       "      <th>0</th>\n",
       "      <th>1</th>\n",
       "      <th>2</th>\n",
       "    </tr>\n",
       "    <tr>\n",
       "      <th>Predicted</th>\n",
       "      <th></th>\n",
       "      <th></th>\n",
       "      <th></th>\n",
       "    </tr>\n",
       "  </thead>\n",
       "  <tbody>\n",
       "    <tr>\n",
       "      <th>0</th>\n",
       "      <td>0</td>\n",
       "      <td>13</td>\n",
       "      <td>33</td>\n",
       "    </tr>\n",
       "    <tr>\n",
       "      <th>1</th>\n",
       "      <td>0</td>\n",
       "      <td>37</td>\n",
       "      <td>17</td>\n",
       "    </tr>\n",
       "    <tr>\n",
       "      <th>2</th>\n",
       "      <td>0</td>\n",
       "      <td>0</td>\n",
       "      <td>0</td>\n",
       "    </tr>\n",
       "  </tbody>\n",
       "</table>\n",
       "</div>"
      ],
      "text/plain": [
       "Truth      0   1   2\n",
       "Predicted           \n",
       "0          0  13  33\n",
       "1          0  37  17\n",
       "2          0   0   0"
      ]
     },
     "execution_count": 71,
     "metadata": {},
     "output_type": "execute_result"
    }
   ],
   "source": [
    "confusion_table(QDApredict, target)"
   ]
  },
  {
   "cell_type": "code",
   "execution_count": 72,
   "id": "46878e7c",
   "metadata": {
    "scrolled": false
   },
   "outputs": [
    {
     "data": {
      "text/plain": [
       "<matplotlib.contour.QuadContourSet at 0x165f567d0>"
      ]
     },
     "execution_count": 72,
     "metadata": {},
     "output_type": "execute_result"
    },
    {
     "data": {
      "image/png": "[encoded data removed]",
      "text/plain": [
       "<Figure size 640x480 with 1 Axes>"
      ]
     },
     "metadata": {},
     "output_type": "display_data"
    }
   ],
   "source": [
    "from matplotlib import colors\n",
    "\n",
    "xx, yy = np.mgrid[-3.5:3.5:.01, -3.5:3.5:.01]\n",
    "grid = np.c_[xx.ravel(), yy.ravel()]\n",
    "\n",
    "Z_lda = lda.predict_proba(np.c_[xx.ravel(), yy.ravel()])\n",
    "Z_lda = Z_lda[:, 1].reshape(xx.shape)\n",
    "\n",
    "Z_qda = qda.predict_proba(np.c_[xx.ravel(), yy.ravel()])\n",
    "Z_qda = Z_qda[:, 1].reshape(xx.shape)\n",
    "\n",
    "# Z_gnb = GNB.predict_proba(np.c_[xx.ravel(), yy.ravel()])\n",
    "# Z_gnb = Z_gnb[:, 1].reshape(xx.shape)\n",
    "\n",
    "plt.scatter(x=X[:,0], y=X[:,1], c=truelabels);   # plot the data\n",
    "\n",
    "plt.contour(xx, yy, LRprobs, [0.5], linewidths=2.0, colors=\"red\")  # logistic\n",
    "plt.contour(xx, yy, Z_lda, [0.5], linewidths=2.0, colors=\"green\")  # LDA\n",
    "plt.contour(xx, yy, Z_qda, [0.5], linewidths=2.0, colors=\"blue\")   # QDA\n",
    "# plt.contour(xx, yy, Z_gnb, [0.5], linewidths=2.0, colors=\"purple\") # GaussianNB\n",
    "#plt.legend(['LR','LDA','QDA', 'GNB'])"
   ]
  },
  {
   "cell_type": "markdown",
   "id": "44be20a3",
   "metadata": {},
   "source": [
    "<strong>Conclusion:</strong> The training error for all of these are pretty similar, but since there are only 2 classes, I would be more inclined to go with LDA, with QDA close behind. In this model QDA doesn't really exclude more points than LDA, otherwise that would be a deciding factor."
   ]
  },
  {
   "cell_type": "markdown",
   "id": "0dca419c",
   "metadata": {},
   "source": [
    "### (4) Apply the one-versus-rest multiclass logistic regression classifier to all three classes of the iris data (using the two dimensional principal components obtained above). Display the confusion matrix and comment on it. What is the overall training error?"
   ]
  },
  {
   "cell_type": "code",
   "execution_count": 73,
   "id": "de85f5c2",
   "metadata": {},
   "outputs": [
    {
     "data": {
      "text/html": [
       "<div>\n",
       "<style scoped>\n",
       "    .dataframe tbody tr th:only-of-type {\n",
       "        vertical-align: middle;\n",
       "    }\n",
       "\n",
       "    .dataframe tbody tr th {\n",
       "        vertical-align: top;\n",
       "    }\n",
       "\n",
       "    .dataframe thead th {\n",
       "        text-align: right;\n",
       "    }\n",
       "</style>\n",
       "<table border=\"1\" class=\"dataframe\">\n",
       "  <thead>\n",
       "    <tr style=\"text-align: right;\">\n",
       "      <th>Truth</th>\n",
       "      <th>0</th>\n",
       "      <th>1</th>\n",
       "      <th>2</th>\n",
       "    </tr>\n",
       "    <tr>\n",
       "      <th>Predicted</th>\n",
       "      <th></th>\n",
       "      <th></th>\n",
       "      <th></th>\n",
       "    </tr>\n",
       "  </thead>\n",
       "  <tbody>\n",
       "    <tr>\n",
       "      <th>0</th>\n",
       "      <td>50</td>\n",
       "      <td>0</td>\n",
       "      <td>0</td>\n",
       "    </tr>\n",
       "    <tr>\n",
       "      <th>1</th>\n",
       "      <td>0</td>\n",
       "      <td>48</td>\n",
       "      <td>1</td>\n",
       "    </tr>\n",
       "    <tr>\n",
       "      <th>2</th>\n",
       "      <td>0</td>\n",
       "      <td>2</td>\n",
       "      <td>49</td>\n",
       "    </tr>\n",
       "  </tbody>\n",
       "</table>\n",
       "</div>"
      ],
      "text/plain": [
       "Truth       0   1   2\n",
       "Predicted            \n",
       "0          50   0   0\n",
       "1           0  48   1\n",
       "2           0   2  49"
      ]
     },
     "execution_count": 73,
     "metadata": {},
     "output_type": "execute_result"
    }
   ],
   "source": [
    "LRModel = linear_model.LogisticRegression(penalty=None, multi_class='ovr').fit(scores, iris.target)\n",
    "LRpredict = LRModel.predict(scores)\n",
    "confusion_table(LRpredict, iris.target)"
   ]
  },
  {
   "cell_type": "code",
   "execution_count": 74,
   "id": "f4340e12",
   "metadata": {},
   "outputs": [
    {
     "name": "stdout",
     "output_type": "stream",
     "text": [
      "0.98 0.02\n"
     ]
    }
   ],
   "source": [
    "print(np.mean(LRpredict == iris.target), np.mean(LRpredict != iris.target));"
   ]
  },
  {
   "cell_type": "markdown",
   "id": "4c2a96f4",
   "metadata": {},
   "source": [
    "<strong>OVR LR Conclusion:</strong> This is a very impressive model, with a 98% success rate (2% training error). This also begs the questions as to whether or no we are overfitting, which could be answered if we split our data into Training and Test data, or have another dataset to test this on."
   ]
  },
  {
   "cell_type": "markdown",
   "id": "c94ff8aa",
   "metadata": {},
   "source": [
    "### (5)  Repeat (4) with the multinomial logistic regression classifier instead. How does it compare with the one-versus-rest extension?"
   ]
  },
  {
   "cell_type": "code",
   "execution_count": 75,
   "id": "4d8bbd21",
   "metadata": {},
   "outputs": [
    {
     "data": {
      "text/html": [
       "<div>\n",
       "<style scoped>\n",
       "    .dataframe tbody tr th:only-of-type {\n",
       "        vertical-align: middle;\n",
       "    }\n",
       "\n",
       "    .dataframe tbody tr th {\n",
       "        vertical-align: top;\n",
       "    }\n",
       "\n",
       "    .dataframe thead th {\n",
       "        text-align: right;\n",
       "    }\n",
       "</style>\n",
       "<table border=\"1\" class=\"dataframe\">\n",
       "  <thead>\n",
       "    <tr style=\"text-align: right;\">\n",
       "      <th>Truth</th>\n",
       "      <th>0</th>\n",
       "      <th>1</th>\n",
       "      <th>2</th>\n",
       "    </tr>\n",
       "    <tr>\n",
       "      <th>Predicted</th>\n",
       "      <th></th>\n",
       "      <th></th>\n",
       "      <th></th>\n",
       "    </tr>\n",
       "  </thead>\n",
       "  <tbody>\n",
       "    <tr>\n",
       "      <th>0</th>\n",
       "      <td>50</td>\n",
       "      <td>0</td>\n",
       "      <td>0</td>\n",
       "    </tr>\n",
       "    <tr>\n",
       "      <th>1</th>\n",
       "      <td>0</td>\n",
       "      <td>49</td>\n",
       "      <td>1</td>\n",
       "    </tr>\n",
       "    <tr>\n",
       "      <th>2</th>\n",
       "      <td>0</td>\n",
       "      <td>1</td>\n",
       "      <td>49</td>\n",
       "    </tr>\n",
       "  </tbody>\n",
       "</table>\n",
       "</div>"
      ],
      "text/plain": [
       "Truth       0   1   2\n",
       "Predicted            \n",
       "0          50   0   0\n",
       "1           0  49   1\n",
       "2           0   1  49"
      ]
     },
     "execution_count": 75,
     "metadata": {},
     "output_type": "execute_result"
    }
   ],
   "source": [
    "LRModel = linear_model.LogisticRegression(penalty=None, multi_class='multinomial').fit(scores, iris.target)\n",
    "LRpredict = LRModel.predict(scores)\n",
    "confusion_table(LRpredict, iris.target)"
   ]
  },
  {
   "cell_type": "code",
   "execution_count": 76,
   "id": "2981c14e",
   "metadata": {},
   "outputs": [
    {
     "name": "stdout",
     "output_type": "stream",
     "text": [
      "0.9866666666666667 0.013333333333333334\n"
     ]
    }
   ],
   "source": [
    "print(np.mean(LRpredict == iris.target), np.mean(LRpredict != iris.target));"
   ]
  },
  {
   "cell_type": "markdown",
   "id": "96934a46",
   "metadata": {},
   "source": [
    "<strong>Multinomial LR Conclusion:</strong> Again, a very impressive model, with a 98.867% success rate (<2% training error). This also begs the questions as to whether or no we are overfitting, but it is still impressive nonetheless. This could mean that there is a pretty clean split that is apparent when fitting 3 classes."
   ]
  },
  {
   "cell_type": "markdown",
   "id": "e8c475c6",
   "metadata": {},
   "source": [
    "### (6) Repeat (4) with each of the LDA and QDA classifiers. How do they compare with logistic regression in terms of training error? Which one will generalize the best to test data (when they become available)?"
   ]
  },
  {
   "cell_type": "markdown",
   "id": "61b519ae",
   "metadata": {},
   "source": [
    "#### LDA :"
   ]
  },
  {
   "cell_type": "code",
   "execution_count": 77,
   "id": "f1ce732b",
   "metadata": {},
   "outputs": [
    {
     "data": {
      "text/html": [
       "<div>\n",
       "<style scoped>\n",
       "    .dataframe tbody tr th:only-of-type {\n",
       "        vertical-align: middle;\n",
       "    }\n",
       "\n",
       "    .dataframe tbody tr th {\n",
       "        vertical-align: top;\n",
       "    }\n",
       "\n",
       "    .dataframe thead th {\n",
       "        text-align: right;\n",
       "    }\n",
       "</style>\n",
       "<table border=\"1\" class=\"dataframe\">\n",
       "  <thead>\n",
       "    <tr style=\"text-align: right;\">\n",
       "      <th>Truth</th>\n",
       "      <th>0</th>\n",
       "      <th>1</th>\n",
       "      <th>2</th>\n",
       "    </tr>\n",
       "    <tr>\n",
       "      <th>Predicted</th>\n",
       "      <th></th>\n",
       "      <th></th>\n",
       "      <th></th>\n",
       "    </tr>\n",
       "  </thead>\n",
       "  <tbody>\n",
       "    <tr>\n",
       "      <th>0</th>\n",
       "      <td>50</td>\n",
       "      <td>0</td>\n",
       "      <td>0</td>\n",
       "    </tr>\n",
       "    <tr>\n",
       "      <th>1</th>\n",
       "      <td>0</td>\n",
       "      <td>48</td>\n",
       "      <td>1</td>\n",
       "    </tr>\n",
       "    <tr>\n",
       "      <th>2</th>\n",
       "      <td>0</td>\n",
       "      <td>2</td>\n",
       "      <td>49</td>\n",
       "    </tr>\n",
       "  </tbody>\n",
       "</table>\n",
       "</div>"
      ],
      "text/plain": [
       "Truth       0   1   2\n",
       "Predicted            \n",
       "0          50   0   0\n",
       "1           0  48   1\n",
       "2           0   2  49"
      ]
     },
     "execution_count": 77,
     "metadata": {},
     "output_type": "execute_result"
    }
   ],
   "source": [
    "LDAModel = lda.fit(scores, iris.target)\n",
    "LDApredict = LDAModel.predict(scores)\n",
    "confusion_table(LDApredict, iris.target)"
   ]
  },
  {
   "cell_type": "code",
   "execution_count": 78,
   "id": "529666fc",
   "metadata": {},
   "outputs": [
    {
     "name": "stdout",
     "output_type": "stream",
     "text": [
      "0.98 0.02\n"
     ]
    }
   ],
   "source": [
    "print(np.mean(LDApredict == iris.target), np.mean(LDApredict != iris.target));"
   ]
  },
  {
   "cell_type": "markdown",
   "id": "966902d7",
   "metadata": {},
   "source": [
    "<strong>LDA Conclusion:</strong> This performed the same as OVR LR, which is already a very impressive model, with a 98% success rate (2% training error). LDA is more trustworthy, but without test data we should not jump to conclusions."
   ]
  },
  {
   "cell_type": "markdown",
   "id": "eecdbcda",
   "metadata": {},
   "source": [
    "#### QDA:"
   ]
  },
  {
   "cell_type": "code",
   "execution_count": 79,
   "id": "1fbf6e8f",
   "metadata": {},
   "outputs": [
    {
     "data": {
      "text/html": [
       "<div>\n",
       "<style scoped>\n",
       "    .dataframe tbody tr th:only-of-type {\n",
       "        vertical-align: middle;\n",
       "    }\n",
       "\n",
       "    .dataframe tbody tr th {\n",
       "        vertical-align: top;\n",
       "    }\n",
       "\n",
       "    .dataframe thead th {\n",
       "        text-align: right;\n",
       "    }\n",
       "</style>\n",
       "<table border=\"1\" class=\"dataframe\">\n",
       "  <thead>\n",
       "    <tr style=\"text-align: right;\">\n",
       "      <th>Truth</th>\n",
       "      <th>0</th>\n",
       "      <th>1</th>\n",
       "      <th>2</th>\n",
       "    </tr>\n",
       "    <tr>\n",
       "      <th>Predicted</th>\n",
       "      <th></th>\n",
       "      <th></th>\n",
       "      <th></th>\n",
       "    </tr>\n",
       "  </thead>\n",
       "  <tbody>\n",
       "    <tr>\n",
       "      <th>0</th>\n",
       "      <td>50</td>\n",
       "      <td>0</td>\n",
       "      <td>0</td>\n",
       "    </tr>\n",
       "    <tr>\n",
       "      <th>1</th>\n",
       "      <td>0</td>\n",
       "      <td>48</td>\n",
       "      <td>1</td>\n",
       "    </tr>\n",
       "    <tr>\n",
       "      <th>2</th>\n",
       "      <td>0</td>\n",
       "      <td>2</td>\n",
       "      <td>49</td>\n",
       "    </tr>\n",
       "  </tbody>\n",
       "</table>\n",
       "</div>"
      ],
      "text/plain": [
       "Truth       0   1   2\n",
       "Predicted            \n",
       "0          50   0   0\n",
       "1           0  48   1\n",
       "2           0   2  49"
      ]
     },
     "execution_count": 79,
     "metadata": {},
     "output_type": "execute_result"
    }
   ],
   "source": [
    "QDAModel = qda.fit(scores, iris.target)\n",
    "QDApredict = QDAModel.predict(scores)\n",
    "confusion_table(QDApredict, iris.target)"
   ]
  },
  {
   "cell_type": "code",
   "execution_count": 80,
   "id": "aa7d292d",
   "metadata": {},
   "outputs": [
    {
     "name": "stdout",
     "output_type": "stream",
     "text": [
      "0.98 0.02\n"
     ]
    }
   ],
   "source": [
    "print(np.mean(QDApredict == iris.target), np.mean(QDApredict != iris.target));"
   ]
  },
  {
   "cell_type": "markdown",
   "id": "7937a1d6",
   "metadata": {},
   "source": [
    "<strong>QDA Conclusion:</strong> This performed the same as LDA and OVR LR, which is, again, a very impressive model, with a 98% success rate (2% training error). I'm prone to trusting QDA at this point and the other models, as multiple of them came up with the same result."
   ]
  }
 ],
 "metadata": {
  "kernelspec": {
   "display_name": "Python 3 (ipykernel)",
   "language": "python",
   "name": "python3"
  },
  "language_info": {
   "codemirror_mode": {
    "name": "ipython",
    "version": 3
   },
   "file_extension": ".py",
   "mimetype": "text/x-python",
   "name": "python",
   "nbconvert_exporter": "python",
   "pygments_lexer": "ipython3",
   "version": "3.11.4"
  }
 },
 "nbformat": 4,
 "nbformat_minor": 5
}
